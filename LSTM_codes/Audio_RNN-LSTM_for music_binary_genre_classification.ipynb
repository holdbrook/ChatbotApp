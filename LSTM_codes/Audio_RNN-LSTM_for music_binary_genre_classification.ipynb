{
 "cells": [
  {
   "cell_type": "markdown",
   "id": "2b23441a-5ed1-490a-bc11-781474d4b93e",
   "metadata": {},
   "source": [
    "# IMPORTATION OF LIBRARIES"
   ]
  },
  {
   "cell_type": "code",
   "execution_count": null,
   "id": "de5b63fe-31d6-4438-a232-1f9d505465f6",
   "metadata": {},
   "outputs": [],
   "source": [
    "import json\n",
    "import numpy as np\n",
    "from sklearn.model_selection import train_test_split\n",
    "import tensorflow.keras as keras\n",
    "import matplotlib.pyplot as plt\n"
   ]
  },
  {
   "cell_type": "markdown",
   "id": "5d548203-b8fd-403c-83f7-138f4641d62c",
   "metadata": {},
   "source": [
    "# IMPORTATION OF THE DATA "
   ]
  },
  {
   "cell_type": "code",
   "execution_count": 3,
   "id": "a3b65a77-560b-4e4b-a465-79506d9acc1d",
   "metadata": {},
   "outputs": [],
   "source": [
    "#The music genre data was preprocessed and saved in a json file\n",
    "DATA_PATH = \"data_Binary_Classification.json\""
   ]
  },
  {
   "cell_type": "code",
   "execution_count": 4,
   "id": "0e9ec2d9-27c4-41d8-8a30-e3a4d8d4fe3b",
   "metadata": {},
   "outputs": [],
   "source": [
    "def load_data(data_path):\n",
    "    \"\"\"Loads training dataset from json file.\n",
    "\n",
    "        :param data_path (str): Path to json file containing data\n",
    "        :return X (ndarray): Inputs\n",
    "        :return y (ndarray): Targets\n",
    "    \"\"\"\n",
    "\n",
    "    with open(data_path, \"r\") as fp:\n",
    "        data = json.load(fp)\n",
    "\n",
    "    X = np.array(data[\"mfcc\"])\n",
    "    y = np.array(data[\"labels\"])\n",
    "    return X, y\n",
    "\n"
   ]
  },
  {
   "cell_type": "markdown",
   "id": "e1fa6899-f7e8-46c0-bb9d-814700749293",
   "metadata": {},
   "source": [
    "# Building the ERROR plots"
   ]
  },
  {
   "cell_type": "code",
   "execution_count": 5,
   "id": "7f25e61e-235e-4e73-835e-6ee1e85ec7ac",
   "metadata": {},
   "outputs": [],
   "source": [
    "def plot_history(history):\n",
    "    \"\"\"Plots accuracy/loss for training/validation set as a function of the epochs\n",
    "\n",
    "        :param history: Training history of model\n",
    "        :return:\n",
    "    \"\"\"\n",
    "\n",
    "    fig, axs = plt.subplots(2)\n",
    "\n",
    "    # create accuracy sublpot\n",
    "    axs[0].plot(history.history[\"accuracy\"], label=\"train accuracy\")\n",
    "    axs[0].plot(history.history[\"val_accuracy\"], label=\"test accuracy\")\n",
    "    axs[0].set_ylabel(\"Accuracy\")\n",
    "    axs[0].legend(loc=\"lower right\")\n",
    "    axs[0].set_title(\"Accuracy eval\")\n",
    "\n",
    "    # create error sublpot\n",
    "    axs[1].plot(history.history[\"loss\"], label=\"train error\")\n",
    "    axs[1].plot(history.history[\"val_loss\"], label=\"test error\")\n",
    "    axs[1].set_ylabel(\"Error\")\n",
    "    axs[1].set_xlabel(\"Epoch\")\n",
    "    axs[1].legend(loc=\"upper right\")\n",
    "    axs[1].set_title(\"Error eval\")\n",
    "\n",
    "    plt.show()"
   ]
  },
  {
   "cell_type": "markdown",
   "id": "8f390ef4-d92e-47d3-b73b-46f32c038102",
   "metadata": {},
   "source": [
    "# Splitting the Data into training, testing and Validation sets"
   ]
  },
  {
   "cell_type": "code",
   "execution_count": 6,
   "id": "015b02cc-6670-4c39-a7c9-8aa7ba76934d",
   "metadata": {},
   "outputs": [],
   "source": [
    "def prepare_datasets(test_size, validation_size):\n",
    "    \"\"\"Loads data and splits it into train, validation and test sets.\n",
    "\n",
    "    :param test_size (float): Value in [0, 1] indicating percentage of data set to allocate to test split\n",
    "    :param validation_size (float): Value in [0, 1] indicating percentage of train set to allocate to validation split\n",
    "\n",
    "    :return X_train (ndarray): Input training set\n",
    "    :return X_validation (ndarray): Input validation set\n",
    "    :return X_test (ndarray): Input test set\n",
    "    :return y_train (ndarray): Target training set\n",
    "    :return y_validation (ndarray): Target validation set\n",
    "    :return y_test (ndarray): Target test set\n",
    "    \"\"\"\n",
    "\n",
    "    # load data\n",
    "    X, y = load_data(DATA_PATH)\n",
    "\n",
    "    # create train, validation and test split\n",
    "    X_train, X_test, y_train, y_test = train_test_split(X, y, test_size=test_size)\n",
    "    X_train, X_validation, y_train, y_validation = train_test_split(X_train, y_train, test_size=validation_size)\n",
    "\n",
    "    return X_train, X_validation, X_test, y_train, y_validation, y_test"
   ]
  },
  {
   "cell_type": "markdown",
   "id": "bc790460-11f2-4533-976a-0a658bf13bca",
   "metadata": {},
   "source": [
    "# Building the LSTM model"
   ]
  },
  {
   "cell_type": "code",
   "execution_count": 7,
   "id": "360870e0-1389-4d00-887c-df16b0120f98",
   "metadata": {},
   "outputs": [],
   "source": [
    "def build_model(input_shape):\n",
    "    \"\"\"Generates RNN-LSTM model for binary classification\n",
    "\n",
    "    :param input_shape (tuple): Shape of input set\n",
    "    :return model: RNN-LSTM model\n",
    "    \"\"\"\n",
    "\n",
    "    # build network topology\n",
    "    model = keras.Sequential()\n",
    "\n",
    "    # 2 LSTM layers\n",
    "    model.add(keras.layers.LSTM(64, input_shape=input_shape, return_sequences=True))\n",
    "    model.add(keras.layers.LSTM(64))\n",
    "\n",
    "    # dense layer\n",
    "    model.add(keras.layers.Dense(64, activation='relu'))\n",
    "    model.add(keras.layers.Dropout(0.3))\n",
    "\n",
    "    # output layer\n",
    "    model.add(keras.layers.Dense(1, activation='sigmoid'))\n",
    "\n",
    "    return model\n"
   ]
  },
  {
   "cell_type": "markdown",
   "id": "cef78b4e-16b2-4c2a-a335-1e387d2742e5",
   "metadata": {},
   "source": [
    "# Executing all the functions"
   ]
  },
  {
   "cell_type": "code",
   "execution_count": 8,
   "id": "3c81a29a-d240-4309-baa9-b4a8836999c4",
   "metadata": {},
   "outputs": [
    {
     "name": "stderr",
     "output_type": "stream",
     "text": [
      "2024-02-25 20:17:21.859881: I tensorflow/core/common_runtime/process_util.cc:146] Creating new thread pool with default inter op setting: 2. Tune using inter_op_parallelism_threads for best performance.\n",
      "2024-02-25 20:17:22.069655: I tensorflow/core/common_runtime/executor.cc:1197] [/device:CPU:0] (DEBUG INFO) Executor start aborting (this does not indicate an error and you can ignore this message): INVALID_ARGUMENT: You must feed a value for placeholder tensor 'gradients/split_2_grad/concat/split_2/split_dim' with dtype int32\n",
      "\t [[{{node gradients/split_2_grad/concat/split_2/split_dim}}]]\n",
      "2024-02-25 20:17:22.070935: I tensorflow/core/common_runtime/executor.cc:1197] [/device:CPU:0] (DEBUG INFO) Executor start aborting (this does not indicate an error and you can ignore this message): INVALID_ARGUMENT: You must feed a value for placeholder tensor 'gradients/split_grad/concat/split/split_dim' with dtype int32\n",
      "\t [[{{node gradients/split_grad/concat/split/split_dim}}]]\n",
      "2024-02-25 20:17:22.072261: I tensorflow/core/common_runtime/executor.cc:1197] [/device:CPU:0] (DEBUG INFO) Executor start aborting (this does not indicate an error and you can ignore this message): INVALID_ARGUMENT: You must feed a value for placeholder tensor 'gradients/split_1_grad/concat/split_1/split_dim' with dtype int32\n",
      "\t [[{{node gradients/split_1_grad/concat/split_1/split_dim}}]]\n"
     ]
    },
    {
     "name": "stdout",
     "output_type": "stream",
     "text": [
      "Model: \"sequential\"\n",
      "_________________________________________________________________\n",
      " Layer (type)                Output Shape              Param #   \n",
      "=================================================================\n",
      " lstm (LSTM)                 (None, 130, 64)           19968     \n",
      "                                                                 \n",
      " lstm_1 (LSTM)               (None, 64)                33024     \n",
      "                                                                 \n",
      " dense (Dense)               (None, 64)                4160      \n",
      "                                                                 \n",
      " dropout (Dropout)           (None, 64)                0         \n",
      "                                                                 \n",
      " dense_1 (Dense)             (None, 1)                 65        \n",
      "                                                                 \n",
      "=================================================================\n",
      "Total params: 57,217\n",
      "Trainable params: 57,217\n",
      "Non-trainable params: 0\n",
      "_________________________________________________________________\n",
      "Epoch 1/30\n"
     ]
    },
    {
     "name": "stderr",
     "output_type": "stream",
     "text": [
      "2024-02-25 20:17:22.364101: I tensorflow/core/common_runtime/executor.cc:1197] [/device:CPU:0] (DEBUG INFO) Executor start aborting (this does not indicate an error and you can ignore this message): INVALID_ARGUMENT: You must feed a value for placeholder tensor 'gradients/split_2_grad/concat/split_2/split_dim' with dtype int32\n",
      "\t [[{{node gradients/split_2_grad/concat/split_2/split_dim}}]]\n",
      "2024-02-25 20:17:22.365133: I tensorflow/core/common_runtime/executor.cc:1197] [/device:CPU:0] (DEBUG INFO) Executor start aborting (this does not indicate an error and you can ignore this message): INVALID_ARGUMENT: You must feed a value for placeholder tensor 'gradients/split_grad/concat/split/split_dim' with dtype int32\n",
      "\t [[{{node gradients/split_grad/concat/split/split_dim}}]]\n",
      "2024-02-25 20:17:22.366193: I tensorflow/core/common_runtime/executor.cc:1197] [/device:CPU:0] (DEBUG INFO) Executor start aborting (this does not indicate an error and you can ignore this message): INVALID_ARGUMENT: You must feed a value for placeholder tensor 'gradients/split_1_grad/concat/split_1/split_dim' with dtype int32\n",
      "\t [[{{node gradients/split_1_grad/concat/split_1/split_dim}}]]\n",
      "2024-02-25 20:17:22.730141: I tensorflow/core/common_runtime/executor.cc:1197] [/device:CPU:0] (DEBUG INFO) Executor start aborting (this does not indicate an error and you can ignore this message): INVALID_ARGUMENT: You must feed a value for placeholder tensor 'gradients/split_2_grad/concat/split_2/split_dim' with dtype int32\n",
      "\t [[{{node gradients/split_2_grad/concat/split_2/split_dim}}]]\n",
      "2024-02-25 20:17:22.732144: I tensorflow/core/common_runtime/executor.cc:1197] [/device:CPU:0] (DEBUG INFO) Executor start aborting (this does not indicate an error and you can ignore this message): INVALID_ARGUMENT: You must feed a value for placeholder tensor 'gradients/split_grad/concat/split/split_dim' with dtype int32\n",
      "\t [[{{node gradients/split_grad/concat/split/split_dim}}]]\n",
      "2024-02-25 20:17:22.733686: I tensorflow/core/common_runtime/executor.cc:1197] [/device:CPU:0] (DEBUG INFO) Executor start aborting (this does not indicate an error and you can ignore this message): INVALID_ARGUMENT: You must feed a value for placeholder tensor 'gradients/split_1_grad/concat/split_1/split_dim' with dtype int32\n",
      "\t [[{{node gradients/split_1_grad/concat/split_1/split_dim}}]]\n",
      "2024-02-25 20:17:22.913689: I tensorflow/core/common_runtime/executor.cc:1197] [/device:CPU:0] (DEBUG INFO) Executor start aborting (this does not indicate an error and you can ignore this message): INVALID_ARGUMENT: You must feed a value for placeholder tensor 'gradients/split_2_grad/concat/split_2/split_dim' with dtype int32\n",
      "\t [[{{node gradients/split_2_grad/concat/split_2/split_dim}}]]\n",
      "2024-02-25 20:17:22.915151: I tensorflow/core/common_runtime/executor.cc:1197] [/device:CPU:0] (DEBUG INFO) Executor start aborting (this does not indicate an error and you can ignore this message): INVALID_ARGUMENT: You must feed a value for placeholder tensor 'gradients/split_grad/concat/split/split_dim' with dtype int32\n",
      "\t [[{{node gradients/split_grad/concat/split/split_dim}}]]\n",
      "2024-02-25 20:17:22.916280: I tensorflow/core/common_runtime/executor.cc:1197] [/device:CPU:0] (DEBUG INFO) Executor start aborting (this does not indicate an error and you can ignore this message): INVALID_ARGUMENT: You must feed a value for placeholder tensor 'gradients/split_1_grad/concat/split_1/split_dim' with dtype int32\n",
      "\t [[{{node gradients/split_1_grad/concat/split_1/split_dim}}]]\n",
      "2024-02-25 20:17:23.904285: I tensorflow/core/common_runtime/executor.cc:1197] [/device:CPU:0] (DEBUG INFO) Executor start aborting (this does not indicate an error and you can ignore this message): INVALID_ARGUMENT: You must feed a value for placeholder tensor 'gradients/split_2_grad/concat/split_2/split_dim' with dtype int32\n",
      "\t [[{{node gradients/split_2_grad/concat/split_2/split_dim}}]]\n",
      "2024-02-25 20:17:23.906180: I tensorflow/core/common_runtime/executor.cc:1197] [/device:CPU:0] (DEBUG INFO) Executor start aborting (this does not indicate an error and you can ignore this message): INVALID_ARGUMENT: You must feed a value for placeholder tensor 'gradients/split_grad/concat/split/split_dim' with dtype int32\n",
      "\t [[{{node gradients/split_grad/concat/split/split_dim}}]]\n",
      "2024-02-25 20:17:23.908499: I tensorflow/core/common_runtime/executor.cc:1197] [/device:CPU:0] (DEBUG INFO) Executor start aborting (this does not indicate an error and you can ignore this message): INVALID_ARGUMENT: You must feed a value for placeholder tensor 'gradients/split_1_grad/concat/split_1/split_dim' with dtype int32\n",
      "\t [[{{node gradients/split_1_grad/concat/split_1/split_dim}}]]\n",
      "2024-02-25 20:17:24.138433: I tensorflow/core/common_runtime/executor.cc:1197] [/device:CPU:0] (DEBUG INFO) Executor start aborting (this does not indicate an error and you can ignore this message): INVALID_ARGUMENT: You must feed a value for placeholder tensor 'gradients/split_2_grad/concat/split_2/split_dim' with dtype int32\n",
      "\t [[{{node gradients/split_2_grad/concat/split_2/split_dim}}]]\n",
      "2024-02-25 20:17:24.140501: I tensorflow/core/common_runtime/executor.cc:1197] [/device:CPU:0] (DEBUG INFO) Executor start aborting (this does not indicate an error and you can ignore this message): INVALID_ARGUMENT: You must feed a value for placeholder tensor 'gradients/split_grad/concat/split/split_dim' with dtype int32\n",
      "\t [[{{node gradients/split_grad/concat/split/split_dim}}]]\n",
      "2024-02-25 20:17:24.142063: I tensorflow/core/common_runtime/executor.cc:1197] [/device:CPU:0] (DEBUG INFO) Executor start aborting (this does not indicate an error and you can ignore this message): INVALID_ARGUMENT: You must feed a value for placeholder tensor 'gradients/split_1_grad/concat/split_1/split_dim' with dtype int32\n",
      "\t [[{{node gradients/split_1_grad/concat/split_1/split_dim}}]]\n"
     ]
    },
    {
     "name": "stdout",
     "output_type": "stream",
     "text": [
      "38/38 [==============================] - ETA: 0s - loss: 0.6730 - accuracy: 0.6150"
     ]
    },
    {
     "name": "stderr",
     "output_type": "stream",
     "text": [
      "2024-02-25 20:17:39.983579: I tensorflow/core/common_runtime/executor.cc:1197] [/device:CPU:0] (DEBUG INFO) Executor start aborting (this does not indicate an error and you can ignore this message): INVALID_ARGUMENT: You must feed a value for placeholder tensor 'gradients/split_2_grad/concat/split_2/split_dim' with dtype int32\n",
      "\t [[{{node gradients/split_2_grad/concat/split_2/split_dim}}]]\n",
      "2024-02-25 20:17:39.985092: I tensorflow/core/common_runtime/executor.cc:1197] [/device:CPU:0] (DEBUG INFO) Executor start aborting (this does not indicate an error and you can ignore this message): INVALID_ARGUMENT: You must feed a value for placeholder tensor 'gradients/split_grad/concat/split/split_dim' with dtype int32\n",
      "\t [[{{node gradients/split_grad/concat/split/split_dim}}]]\n",
      "2024-02-25 20:17:39.986379: I tensorflow/core/common_runtime/executor.cc:1197] [/device:CPU:0] (DEBUG INFO) Executor start aborting (this does not indicate an error and you can ignore this message): INVALID_ARGUMENT: You must feed a value for placeholder tensor 'gradients/split_1_grad/concat/split_1/split_dim' with dtype int32\n",
      "\t [[{{node gradients/split_1_grad/concat/split_1/split_dim}}]]\n",
      "2024-02-25 20:17:40.148197: I tensorflow/core/common_runtime/executor.cc:1197] [/device:CPU:0] (DEBUG INFO) Executor start aborting (this does not indicate an error and you can ignore this message): INVALID_ARGUMENT: You must feed a value for placeholder tensor 'gradients/split_2_grad/concat/split_2/split_dim' with dtype int32\n",
      "\t [[{{node gradients/split_2_grad/concat/split_2/split_dim}}]]\n",
      "2024-02-25 20:17:40.149512: I tensorflow/core/common_runtime/executor.cc:1197] [/device:CPU:0] (DEBUG INFO) Executor start aborting (this does not indicate an error and you can ignore this message): INVALID_ARGUMENT: You must feed a value for placeholder tensor 'gradients/split_grad/concat/split/split_dim' with dtype int32\n",
      "\t [[{{node gradients/split_grad/concat/split/split_dim}}]]\n",
      "2024-02-25 20:17:40.150590: I tensorflow/core/common_runtime/executor.cc:1197] [/device:CPU:0] (DEBUG INFO) Executor start aborting (this does not indicate an error and you can ignore this message): INVALID_ARGUMENT: You must feed a value for placeholder tensor 'gradients/split_1_grad/concat/split_1/split_dim' with dtype int32\n",
      "\t [[{{node gradients/split_1_grad/concat/split_1/split_dim}}]]\n"
     ]
    },
    {
     "name": "stdout",
     "output_type": "stream",
     "text": [
      "38/38 [==============================] - 19s 404ms/step - loss: 0.6730 - accuracy: 0.6150 - val_loss: 0.6155 - val_accuracy: 0.8586\n",
      "Epoch 2/30\n",
      "38/38 [==============================] - 15s 397ms/step - loss: 0.5612 - accuracy: 0.8703 - val_loss: 0.4940 - val_accuracy: 0.8822\n",
      "Epoch 3/30\n",
      "38/38 [==============================] - 15s 407ms/step - loss: 0.4281 - accuracy: 0.9006 - val_loss: 0.3640 - val_accuracy: 0.9024\n",
      "Epoch 4/30\n",
      "38/38 [==============================] - 13s 352ms/step - loss: 0.3073 - accuracy: 0.9259 - val_loss: 0.2597 - val_accuracy: 0.9394\n",
      "Epoch 5/30\n",
      "38/38 [==============================] - 15s 389ms/step - loss: 0.2157 - accuracy: 0.9553 - val_loss: 0.2185 - val_accuracy: 0.9327\n",
      "Epoch 6/30\n",
      "38/38 [==============================] - 15s 400ms/step - loss: 0.1602 - accuracy: 0.9671 - val_loss: 0.1846 - val_accuracy: 0.9461\n",
      "Epoch 7/30\n",
      "38/38 [==============================] - 15s 390ms/step - loss: 0.1364 - accuracy: 0.9646 - val_loss: 0.1634 - val_accuracy: 0.9495\n",
      "Epoch 8/30\n",
      "38/38 [==============================] - 16s 428ms/step - loss: 0.1153 - accuracy: 0.9739 - val_loss: 0.1566 - val_accuracy: 0.9562\n",
      "Epoch 9/30\n",
      "38/38 [==============================] - 16s 413ms/step - loss: 0.1100 - accuracy: 0.9756 - val_loss: 0.1341 - val_accuracy: 0.9630\n",
      "Epoch 10/30\n",
      "38/38 [==============================] - 15s 407ms/step - loss: 0.0897 - accuracy: 0.9798 - val_loss: 0.1297 - val_accuracy: 0.9663\n",
      "Epoch 11/30\n",
      "38/38 [==============================] - 16s 427ms/step - loss: 0.0751 - accuracy: 0.9840 - val_loss: 0.1261 - val_accuracy: 0.9697\n",
      "Epoch 12/30\n",
      "38/38 [==============================] - 13s 337ms/step - loss: 0.0776 - accuracy: 0.9848 - val_loss: 0.1285 - val_accuracy: 0.9663\n",
      "Epoch 13/30\n",
      "38/38 [==============================] - 14s 361ms/step - loss: 0.0982 - accuracy: 0.9764 - val_loss: 0.1905 - val_accuracy: 0.9495\n",
      "Epoch 14/30\n",
      "38/38 [==============================] - 13s 340ms/step - loss: 0.0798 - accuracy: 0.9823 - val_loss: 0.2152 - val_accuracy: 0.9360\n",
      "Epoch 15/30\n",
      "38/38 [==============================] - 15s 388ms/step - loss: 0.0819 - accuracy: 0.9823 - val_loss: 0.1429 - val_accuracy: 0.9562\n",
      "Epoch 16/30\n",
      "38/38 [==============================] - 14s 371ms/step - loss: 0.0704 - accuracy: 0.9840 - val_loss: 0.1315 - val_accuracy: 0.9529\n",
      "Epoch 17/30\n",
      "38/38 [==============================] - 14s 364ms/step - loss: 0.0592 - accuracy: 0.9865 - val_loss: 0.1362 - val_accuracy: 0.9562\n",
      "Epoch 18/30\n",
      "38/38 [==============================] - 15s 392ms/step - loss: 0.0564 - accuracy: 0.9874 - val_loss: 0.1314 - val_accuracy: 0.9596\n",
      "Epoch 19/30\n",
      "38/38 [==============================] - 14s 377ms/step - loss: 0.0543 - accuracy: 0.9890 - val_loss: 0.1253 - val_accuracy: 0.9630\n",
      "Epoch 20/30\n",
      "38/38 [==============================] - 15s 382ms/step - loss: 0.0522 - accuracy: 0.9899 - val_loss: 0.1342 - val_accuracy: 0.9630\n",
      "Epoch 21/30\n",
      "38/38 [==============================] - 16s 423ms/step - loss: 0.0521 - accuracy: 0.9865 - val_loss: 0.1276 - val_accuracy: 0.9663\n",
      "Epoch 22/30\n",
      "38/38 [==============================] - 13s 333ms/step - loss: 0.0463 - accuracy: 0.9907 - val_loss: 0.1258 - val_accuracy: 0.9663\n",
      "Epoch 23/30\n",
      "38/38 [==============================] - 16s 411ms/step - loss: 0.0487 - accuracy: 0.9907 - val_loss: 0.1358 - val_accuracy: 0.9630\n",
      "Epoch 24/30\n",
      "38/38 [==============================] - 15s 407ms/step - loss: 0.0652 - accuracy: 0.9815 - val_loss: 0.1312 - val_accuracy: 0.9630\n",
      "Epoch 25/30\n",
      "38/38 [==============================] - 15s 393ms/step - loss: 0.0442 - accuracy: 0.9890 - val_loss: 0.1112 - val_accuracy: 0.9697\n",
      "Epoch 26/30\n",
      "38/38 [==============================] - 15s 400ms/step - loss: 0.0392 - accuracy: 0.9907 - val_loss: 0.1101 - val_accuracy: 0.9731\n",
      "Epoch 27/30\n",
      "38/38 [==============================] - 15s 385ms/step - loss: 0.0365 - accuracy: 0.9916 - val_loss: 0.1069 - val_accuracy: 0.9731\n",
      "Epoch 28/30\n",
      "38/38 [==============================] - 15s 399ms/step - loss: 0.0340 - accuracy: 0.9924 - val_loss: 0.1086 - val_accuracy: 0.9731\n",
      "Epoch 29/30\n",
      "38/38 [==============================] - 19s 504ms/step - loss: 0.0305 - accuracy: 0.9924 - val_loss: 0.1121 - val_accuracy: 0.9731\n",
      "Epoch 30/30\n",
      "38/38 [==============================] - 14s 381ms/step - loss: 0.0295 - accuracy: 0.9941 - val_loss: 0.1131 - val_accuracy: 0.9731\n"
     ]
    },
    {
     "data": {
      "image/png": "[encoded data removed]",
      "text/plain": [
       "<Figure size 640x480 with 2 Axes>"
      ]
     },
     "metadata": {},
     "output_type": "display_data"
    },
    {
     "name": "stdout",
     "output_type": "stream",
     "text": [
      "16/16 - 3s - loss: 0.0882 - accuracy: 0.9758 - 3s/epoch - 158ms/step\n",
      "\n",
      "Test accuracy: 0.9757575988769531\n"
     ]
    }
   ],
   "source": [
    "if __name__ == \"__main__\":\n",
    "\n",
    "    # get train, validation, test splits\n",
    "    X_train, X_validation, X_test, y_train, y_validation, y_test = prepare_datasets(0.25, 0.2)\n",
    "\n",
    "    # create network\n",
    "    input_shape = (X_train.shape[1], X_train.shape[2]) # 130, 13\n",
    "    model = build_model(input_shape)\n",
    "\n",
    "    # compile model for binary classification\n",
    "    optimiser = keras.optimizers.Adam(learning_rate=0.0001)\n",
    "    model.compile(optimizer=optimiser,\n",
    "                  loss='binary_crossentropy',\n",
    "                  metrics=['accuracy'])\n",
    "\n",
    "    model.summary()\n",
    "\n",
    "    # train model\n",
    "    history = model.fit(X_train, y_train, validation_data=(X_validation, y_validation), batch_size=32, epochs=30)\n",
    "\n",
    "    # plot accuracy/error for training and validation\n",
    "    plot_history(history)\n",
    "\n",
    "    # evaluate model on test set\n",
    "    test_loss, test_acc = model.evaluate(X_test, y_test, verbose=2)\n",
    "    print('\\nTest accuracy:', test_acc)"
   ]
  },
  {
   "cell_type": "code",
   "execution_count": null,
   "id": "7248d642-7312-4a12-869c-b0570a61190d",
   "metadata": {},
   "outputs": [],
   "source": []
  },
  {
   "cell_type": "code",
   "execution_count": null,
   "id": "686eac51-7d02-4275-a75b-48a725ee94b2",
   "metadata": {},
   "outputs": [],
   "source": []
  },
  {
   "cell_type": "code",
   "execution_count": null,
   "id": "224caba6-8426-47bf-92d4-6087d23ea0be",
   "metadata": {},
   "outputs": [],
   "source": []
  },
  {
   "cell_type": "code",
   "execution_count": null,
   "id": "14fe585d-62d6-4780-b138-5bb705123509",
   "metadata": {},
   "outputs": [],
   "source": []
  },
  {
   "cell_type": "code",
   "execution_count": null,
   "id": "f5af59ab-e04a-4023-bc45-6b7dd4abb2f1",
   "metadata": {},
   "outputs": [],
   "source": []
  },
  {
   "cell_type": "code",
   "execution_count": null,
   "id": "c1f82939-4775-4306-95b3-fcbe051434ee",
   "metadata": {},
   "outputs": [],
   "source": []
  },
  {
   "cell_type": "code",
   "execution_count": null,
   "id": "55500871-d3dd-443a-8d24-b47597129c96",
   "metadata": {},
   "outputs": [],
   "source": []
  }
 ],
 "metadata": {
  "kernelspec": {
   "display_name": "Python 3 (ipykernel)",
   "language": "python",
   "name": "python3"
  },
  "language_info": {
   "codemirror_mode": {
    "name": "ipython",
    "version": 3
   },
   "file_extension": ".py",
   "mimetype": "text/x-python",
   "name": "python",
   "nbconvert_exporter": "python",
   "pygments_lexer": "ipython3",
   "version": "3.10.13"
  }
 },
 "nbformat": 4,
 "nbformat_minor": 5
}
